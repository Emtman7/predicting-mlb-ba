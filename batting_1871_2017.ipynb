{
  "cells": [
    {
      "cell_type": "markdown",
      "source": [
        "#setup"
      ],
      "metadata": {
        "id": "CWDIQeCfhJlD"
      }
    },
    {
      "cell_type": "code",
      "source": [
        "# script for standard imports\n",
        "%run '/content/drive/MyDrive/Data_Science/scripts/setup_get_gtd_data.ipynb'"
      ],
      "metadata": {
        "id": "xu_38Rj6gzT8"
      },
      "execution_count": null,
      "outputs": []
    },
    {
      "cell_type": "markdown",
      "source": [
        "#read in csv"
      ],
      "metadata": {
        "id": "ZFc9-bDShFDT"
      }
    },
    {
      "cell_type": "code",
      "source": [
        "df = pd.read_csv('https://query.data.world/s/5gsd2uvm7f724ier2etajwqmiftygt')"
      ],
      "metadata": {
        "id": "bsQode5Iel_x"
      },
      "execution_count": null,
      "outputs": []
    },
    {
      "cell_type": "code",
      "source": [
        "df.shape, df.columns"
      ],
      "metadata": {
        "colab": {
          "base_uri": "https://localhost:8080/"
        },
        "id": "e5KgjDSheplv",
        "outputId": "3c8e108a-92a8-4b35-a101-a07d7db9ee24"
      },
      "execution_count": null,
      "outputs": [
        {
          "output_type": "execute_result",
          "data": {
            "text/plain": [
              "((104324, 22),\n",
              " Index(['playerID', 'yearID', 'stint', 'teamID', 'lgID', 'G', 'AB', 'R', 'H',\n",
              "        '2B', '3B', 'HR', 'RBI', 'SB', 'CS', 'BB', 'SO', 'IBB', 'HBP', 'SH',\n",
              "        'SF', 'GIDP'],\n",
              "       dtype='object'))"
            ]
          },
          "metadata": {},
          "execution_count": 82
        }
      ]
    },
    {
      "cell_type": "code",
      "source": [
        "df.rename(columns={'playerID':'name','yearID':'yr'}, inplace=True)\n",
        "df.rename(str.lower, axis='columns', inplace=True)\n",
        "df.head()"
      ],
      "metadata": {
        "colab": {
          "base_uri": "https://localhost:8080/",
          "height": 206
        },
        "id": "zyc5NMYLfmjT",
        "outputId": "ff3075ae-f2b6-431a-f905-4164657db090"
      },
      "execution_count": null,
      "outputs": [
        {
          "output_type": "execute_result",
          "data": {
            "text/plain": [
              "        name    yr  stint teamid lgid   g   ab   r   h  2b  3b  hr   rbi   sb  \\\n",
              "0  abercda01  1871      1    TRO  NaN   1    4   0   0   0   0   0   0.0  0.0   \n",
              "1   addybo01  1871      1    RC1  NaN  25  118  30  32   6   0   0  13.0  8.0   \n",
              "2  allisar01  1871      1    CL1  NaN  29  137  28  40   4   5   0  19.0  3.0   \n",
              "3  allisdo01  1871      1    WS3  NaN  27  133  28  44  10   2   2  27.0  1.0   \n",
              "4  ansonca01  1871      1    RC1  NaN  25  120  29  39  11   3   0  16.0  6.0   \n",
              "\n",
              "    cs  bb   so  ibb  hbp  sh  sf  gidp  \n",
              "0  0.0   0  0.0  NaN  NaN NaN NaN   0.0  \n",
              "1  1.0   4  0.0  NaN  NaN NaN NaN   0.0  \n",
              "2  1.0   2  5.0  NaN  NaN NaN NaN   1.0  \n",
              "3  1.0   0  2.0  NaN  NaN NaN NaN   0.0  \n",
              "4  2.0   2  1.0  NaN  NaN NaN NaN   0.0  "
            ],
            "text/html": [
              "\n",
              "  <div id=\"df-5283ad48-bc5f-4e46-b597-8fd627998486\">\n",
              "    <div class=\"colab-df-container\">\n",
              "      <div>\n",
              "<style scoped>\n",
              "    .dataframe tbody tr th:only-of-type {\n",
              "        vertical-align: middle;\n",
              "    }\n",
              "\n",
              "    .dataframe tbody tr th {\n",
              "        vertical-align: top;\n",
              "    }\n",
              "\n",
              "    .dataframe thead th {\n",
              "        text-align: right;\n",
              "    }\n",
              "</style>\n",
              "<table border=\"1\" class=\"dataframe\">\n",
              "  <thead>\n",
              "    <tr style=\"text-align: right;\">\n",
              "      <th></th>\n",
              "      <th>name</th>\n",
              "      <th>yr</th>\n",
              "      <th>stint</th>\n",
              "      <th>teamid</th>\n",
              "      <th>lgid</th>\n",
              "      <th>g</th>\n",
              "      <th>ab</th>\n",
              "      <th>r</th>\n",
              "      <th>h</th>\n",
              "      <th>2b</th>\n",
              "      <th>3b</th>\n",
              "      <th>hr</th>\n",
              "      <th>rbi</th>\n",
              "      <th>sb</th>\n",
              "      <th>cs</th>\n",
              "      <th>bb</th>\n",
              "      <th>so</th>\n",
              "      <th>ibb</th>\n",
              "      <th>hbp</th>\n",
              "      <th>sh</th>\n",
              "      <th>sf</th>\n",
              "      <th>gidp</th>\n",
              "    </tr>\n",
              "  </thead>\n",
              "  <tbody>\n",
              "    <tr>\n",
              "      <th>0</th>\n",
              "      <td>abercda01</td>\n",
              "      <td>1871</td>\n",
              "      <td>1</td>\n",
              "      <td>TRO</td>\n",
              "      <td>NaN</td>\n",
              "      <td>1</td>\n",
              "      <td>4</td>\n",
              "      <td>0</td>\n",
              "      <td>0</td>\n",
              "      <td>0</td>\n",
              "      <td>0</td>\n",
              "      <td>0</td>\n",
              "      <td>0.0</td>\n",
              "      <td>0.0</td>\n",
              "      <td>0.0</td>\n",
              "      <td>0</td>\n",
              "      <td>0.0</td>\n",
              "      <td>NaN</td>\n",
              "      <td>NaN</td>\n",
              "      <td>NaN</td>\n",
              "      <td>NaN</td>\n",
              "      <td>0.0</td>\n",
              "    </tr>\n",
              "    <tr>\n",
              "      <th>1</th>\n",
              "      <td>addybo01</td>\n",
              "      <td>1871</td>\n",
              "      <td>1</td>\n",
              "      <td>RC1</td>\n",
              "      <td>NaN</td>\n",
              "      <td>25</td>\n",
              "      <td>118</td>\n",
              "      <td>30</td>\n",
              "      <td>32</td>\n",
              "      <td>6</td>\n",
              "      <td>0</td>\n",
              "      <td>0</td>\n",
              "      <td>13.0</td>\n",
              "      <td>8.0</td>\n",
              "      <td>1.0</td>\n",
              "      <td>4</td>\n",
              "      <td>0.0</td>\n",
              "      <td>NaN</td>\n",
              "      <td>NaN</td>\n",
              "      <td>NaN</td>\n",
              "      <td>NaN</td>\n",
              "      <td>0.0</td>\n",
              "    </tr>\n",
              "    <tr>\n",
              "      <th>2</th>\n",
              "      <td>allisar01</td>\n",
              "      <td>1871</td>\n",
              "      <td>1</td>\n",
              "      <td>CL1</td>\n",
              "      <td>NaN</td>\n",
              "      <td>29</td>\n",
              "      <td>137</td>\n",
              "      <td>28</td>\n",
              "      <td>40</td>\n",
              "      <td>4</td>\n",
              "      <td>5</td>\n",
              "      <td>0</td>\n",
              "      <td>19.0</td>\n",
              "      <td>3.0</td>\n",
              "      <td>1.0</td>\n",
              "      <td>2</td>\n",
              "      <td>5.0</td>\n",
              "      <td>NaN</td>\n",
              "      <td>NaN</td>\n",
              "      <td>NaN</td>\n",
              "      <td>NaN</td>\n",
              "      <td>1.0</td>\n",
              "    </tr>\n",
              "    <tr>\n",
              "      <th>3</th>\n",
              "      <td>allisdo01</td>\n",
              "      <td>1871</td>\n",
              "      <td>1</td>\n",
              "      <td>WS3</td>\n",
              "      <td>NaN</td>\n",
              "      <td>27</td>\n",
              "      <td>133</td>\n",
              "      <td>28</td>\n",
              "      <td>44</td>\n",
              "      <td>10</td>\n",
              "      <td>2</td>\n",
              "      <td>2</td>\n",
              "      <td>27.0</td>\n",
              "      <td>1.0</td>\n",
              "      <td>1.0</td>\n",
              "      <td>0</td>\n",
              "      <td>2.0</td>\n",
              "      <td>NaN</td>\n",
              "      <td>NaN</td>\n",
              "      <td>NaN</td>\n",
              "      <td>NaN</td>\n",
              "      <td>0.0</td>\n",
              "    </tr>\n",
              "    <tr>\n",
              "      <th>4</th>\n",
              "      <td>ansonca01</td>\n",
              "      <td>1871</td>\n",
              "      <td>1</td>\n",
              "      <td>RC1</td>\n",
              "      <td>NaN</td>\n",
              "      <td>25</td>\n",
              "      <td>120</td>\n",
              "      <td>29</td>\n",
              "      <td>39</td>\n",
              "      <td>11</td>\n",
              "      <td>3</td>\n",
              "      <td>0</td>\n",
              "      <td>16.0</td>\n",
              "      <td>6.0</td>\n",
              "      <td>2.0</td>\n",
              "      <td>2</td>\n",
              "      <td>1.0</td>\n",
              "      <td>NaN</td>\n",
              "      <td>NaN</td>\n",
              "      <td>NaN</td>\n",
              "      <td>NaN</td>\n",
              "      <td>0.0</td>\n",
              "    </tr>\n",
              "  </tbody>\n",
              "</table>\n",
              "</div>\n",
              "      <button class=\"colab-df-convert\" onclick=\"convertToInteractive('df-5283ad48-bc5f-4e46-b597-8fd627998486')\"\n",
              "              title=\"Convert this dataframe to an interactive table.\"\n",
              "              style=\"display:none;\">\n",
              "        \n",
              "  <svg xmlns=\"http://www.w3.org/2000/svg\" height=\"24px\"viewBox=\"0 0 24 24\"\n",
              "       width=\"24px\">\n",
              "    <path d=\"M0 0h24v24H0V0z\" fill=\"none\"/>\n",
              "    <path d=\"M18.56 5.44l.94 2.06.94-2.06 2.06-.94-2.06-.94-.94-2.06-.94 2.06-2.06.94zm-11 1L8.5 8.5l.94-2.06 2.06-.94-2.06-.94L8.5 2.5l-.94 2.06-2.06.94zm10 10l.94 2.06.94-2.06 2.06-.94-2.06-.94-.94-2.06-.94 2.06-2.06.94z\"/><path d=\"M17.41 7.96l-1.37-1.37c-.4-.4-.92-.59-1.43-.59-.52 0-1.04.2-1.43.59L10.3 9.45l-7.72 7.72c-.78.78-.78 2.05 0 2.83L4 21.41c.39.39.9.59 1.41.59.51 0 1.02-.2 1.41-.59l7.78-7.78 2.81-2.81c.8-.78.8-2.07 0-2.86zM5.41 20L4 18.59l7.72-7.72 1.47 1.35L5.41 20z\"/>\n",
              "  </svg>\n",
              "      </button>\n",
              "      \n",
              "  <style>\n",
              "    .colab-df-container {\n",
              "      display:flex;\n",
              "      flex-wrap:wrap;\n",
              "      gap: 12px;\n",
              "    }\n",
              "\n",
              "    .colab-df-convert {\n",
              "      background-color: #E8F0FE;\n",
              "      border: none;\n",
              "      border-radius: 50%;\n",
              "      cursor: pointer;\n",
              "      display: none;\n",
              "      fill: #1967D2;\n",
              "      height: 32px;\n",
              "      padding: 0 0 0 0;\n",
              "      width: 32px;\n",
              "    }\n",
              "\n",
              "    .colab-df-convert:hover {\n",
              "      background-color: #E2EBFA;\n",
              "      box-shadow: 0px 1px 2px rgba(60, 64, 67, 0.3), 0px 1px 3px 1px rgba(60, 64, 67, 0.15);\n",
              "      fill: #174EA6;\n",
              "    }\n",
              "\n",
              "    [theme=dark] .colab-df-convert {\n",
              "      background-color: #3B4455;\n",
              "      fill: #D2E3FC;\n",
              "    }\n",
              "\n",
              "    [theme=dark] .colab-df-convert:hover {\n",
              "      background-color: #434B5C;\n",
              "      box-shadow: 0px 1px 3px 1px rgba(0, 0, 0, 0.15);\n",
              "      filter: drop-shadow(0px 1px 2px rgba(0, 0, 0, 0.3));\n",
              "      fill: #FFFFFF;\n",
              "    }\n",
              "  </style>\n",
              "\n",
              "      <script>\n",
              "        const buttonEl =\n",
              "          document.querySelector('#df-5283ad48-bc5f-4e46-b597-8fd627998486 button.colab-df-convert');\n",
              "        buttonEl.style.display =\n",
              "          google.colab.kernel.accessAllowed ? 'block' : 'none';\n",
              "\n",
              "        async function convertToInteractive(key) {\n",
              "          const element = document.querySelector('#df-5283ad48-bc5f-4e46-b597-8fd627998486');\n",
              "          const dataTable =\n",
              "            await google.colab.kernel.invokeFunction('convertToInteractive',\n",
              "                                                     [key], {});\n",
              "          if (!dataTable) return;\n",
              "\n",
              "          const docLinkHtml = 'Like what you see? Visit the ' +\n",
              "            '<a target=\"_blank\" href=https://colab.research.google.com/notebooks/data_table.ipynb>data table notebook</a>'\n",
              "            + ' to learn more about interactive tables.';\n",
              "          element.innerHTML = '';\n",
              "          dataTable['output_type'] = 'display_data';\n",
              "          await google.colab.output.renderOutput(dataTable, element);\n",
              "          const docLink = document.createElement('div');\n",
              "          docLink.innerHTML = docLinkHtml;\n",
              "          element.appendChild(docLink);\n",
              "        }\n",
              "      </script>\n",
              "    </div>\n",
              "  </div>\n",
              "  "
            ]
          },
          "metadata": {},
          "execution_count": 83
        }
      ]
    },
    {
      "cell_type": "code",
      "source": [
        "df.loc[(df['yr']>=2017), ['name','yr','ab', 'h']].head()"
      ],
      "metadata": {
        "colab": {
          "base_uri": "https://localhost:8080/",
          "height": 206
        },
        "id": "CRT45iRUe1He",
        "outputId": "8ba748d8-64ad-499e-e1b8-3e281642a5f4"
      },
      "execution_count": null,
      "outputs": [
        {
          "output_type": "execute_result",
          "data": {
            "text/plain": [
              "             name    yr   ab    h\n",
              "102830   abadfe01  2017    0    0\n",
              "102831  abreujo02  2017  621  189\n",
              "102832  adamecr01  2017   13    0\n",
              "102833  adamsau02  2017    0    0\n",
              "102834  adamsla01  2017  109   30"
            ],
            "text/html": [
              "\n",
              "  <div id=\"df-47adc736-3369-4bf5-bd44-53b210d7dd98\">\n",
              "    <div class=\"colab-df-container\">\n",
              "      <div>\n",
              "<style scoped>\n",
              "    .dataframe tbody tr th:only-of-type {\n",
              "        vertical-align: middle;\n",
              "    }\n",
              "\n",
              "    .dataframe tbody tr th {\n",
              "        vertical-align: top;\n",
              "    }\n",
              "\n",
              "    .dataframe thead th {\n",
              "        text-align: right;\n",
              "    }\n",
              "</style>\n",
              "<table border=\"1\" class=\"dataframe\">\n",
              "  <thead>\n",
              "    <tr style=\"text-align: right;\">\n",
              "      <th></th>\n",
              "      <th>name</th>\n",
              "      <th>yr</th>\n",
              "      <th>ab</th>\n",
              "      <th>h</th>\n",
              "    </tr>\n",
              "  </thead>\n",
              "  <tbody>\n",
              "    <tr>\n",
              "      <th>102830</th>\n",
              "      <td>abadfe01</td>\n",
              "      <td>2017</td>\n",
              "      <td>0</td>\n",
              "      <td>0</td>\n",
              "    </tr>\n",
              "    <tr>\n",
              "      <th>102831</th>\n",
              "      <td>abreujo02</td>\n",
              "      <td>2017</td>\n",
              "      <td>621</td>\n",
              "      <td>189</td>\n",
              "    </tr>\n",
              "    <tr>\n",
              "      <th>102832</th>\n",
              "      <td>adamecr01</td>\n",
              "      <td>2017</td>\n",
              "      <td>13</td>\n",
              "      <td>0</td>\n",
              "    </tr>\n",
              "    <tr>\n",
              "      <th>102833</th>\n",
              "      <td>adamsau02</td>\n",
              "      <td>2017</td>\n",
              "      <td>0</td>\n",
              "      <td>0</td>\n",
              "    </tr>\n",
              "    <tr>\n",
              "      <th>102834</th>\n",
              "      <td>adamsla01</td>\n",
              "      <td>2017</td>\n",
              "      <td>109</td>\n",
              "      <td>30</td>\n",
              "    </tr>\n",
              "  </tbody>\n",
              "</table>\n",
              "</div>\n",
              "      <button class=\"colab-df-convert\" onclick=\"convertToInteractive('df-47adc736-3369-4bf5-bd44-53b210d7dd98')\"\n",
              "              title=\"Convert this dataframe to an interactive table.\"\n",
              "              style=\"display:none;\">\n",
              "        \n",
              "  <svg xmlns=\"http://www.w3.org/2000/svg\" height=\"24px\"viewBox=\"0 0 24 24\"\n",
              "       width=\"24px\">\n",
              "    <path d=\"M0 0h24v24H0V0z\" fill=\"none\"/>\n",
              "    <path d=\"M18.56 5.44l.94 2.06.94-2.06 2.06-.94-2.06-.94-.94-2.06-.94 2.06-2.06.94zm-11 1L8.5 8.5l.94-2.06 2.06-.94-2.06-.94L8.5 2.5l-.94 2.06-2.06.94zm10 10l.94 2.06.94-2.06 2.06-.94-2.06-.94-.94-2.06-.94 2.06-2.06.94z\"/><path d=\"M17.41 7.96l-1.37-1.37c-.4-.4-.92-.59-1.43-.59-.52 0-1.04.2-1.43.59L10.3 9.45l-7.72 7.72c-.78.78-.78 2.05 0 2.83L4 21.41c.39.39.9.59 1.41.59.51 0 1.02-.2 1.41-.59l7.78-7.78 2.81-2.81c.8-.78.8-2.07 0-2.86zM5.41 20L4 18.59l7.72-7.72 1.47 1.35L5.41 20z\"/>\n",
              "  </svg>\n",
              "      </button>\n",
              "      \n",
              "  <style>\n",
              "    .colab-df-container {\n",
              "      display:flex;\n",
              "      flex-wrap:wrap;\n",
              "      gap: 12px;\n",
              "    }\n",
              "\n",
              "    .colab-df-convert {\n",
              "      background-color: #E8F0FE;\n",
              "      border: none;\n",
              "      border-radius: 50%;\n",
              "      cursor: pointer;\n",
              "      display: none;\n",
              "      fill: #1967D2;\n",
              "      height: 32px;\n",
              "      padding: 0 0 0 0;\n",
              "      width: 32px;\n",
              "    }\n",
              "\n",
              "    .colab-df-convert:hover {\n",
              "      background-color: #E2EBFA;\n",
              "      box-shadow: 0px 1px 2px rgba(60, 64, 67, 0.3), 0px 1px 3px 1px rgba(60, 64, 67, 0.15);\n",
              "      fill: #174EA6;\n",
              "    }\n",
              "\n",
              "    [theme=dark] .colab-df-convert {\n",
              "      background-color: #3B4455;\n",
              "      fill: #D2E3FC;\n",
              "    }\n",
              "\n",
              "    [theme=dark] .colab-df-convert:hover {\n",
              "      background-color: #434B5C;\n",
              "      box-shadow: 0px 1px 3px 1px rgba(0, 0, 0, 0.15);\n",
              "      filter: drop-shadow(0px 1px 2px rgba(0, 0, 0, 0.3));\n",
              "      fill: #FFFFFF;\n",
              "    }\n",
              "  </style>\n",
              "\n",
              "      <script>\n",
              "        const buttonEl =\n",
              "          document.querySelector('#df-47adc736-3369-4bf5-bd44-53b210d7dd98 button.colab-df-convert');\n",
              "        buttonEl.style.display =\n",
              "          google.colab.kernel.accessAllowed ? 'block' : 'none';\n",
              "\n",
              "        async function convertToInteractive(key) {\n",
              "          const element = document.querySelector('#df-47adc736-3369-4bf5-bd44-53b210d7dd98');\n",
              "          const dataTable =\n",
              "            await google.colab.kernel.invokeFunction('convertToInteractive',\n",
              "                                                     [key], {});\n",
              "          if (!dataTable) return;\n",
              "\n",
              "          const docLinkHtml = 'Like what you see? Visit the ' +\n",
              "            '<a target=\"_blank\" href=https://colab.research.google.com/notebooks/data_table.ipynb>data table notebook</a>'\n",
              "            + ' to learn more about interactive tables.';\n",
              "          element.innerHTML = '';\n",
              "          dataTable['output_type'] = 'display_data';\n",
              "          await google.colab.output.renderOutput(dataTable, element);\n",
              "          const docLink = document.createElement('div');\n",
              "          docLink.innerHTML = docLinkHtml;\n",
              "          element.appendChild(docLink);\n",
              "        }\n",
              "      </script>\n",
              "    </div>\n",
              "  </div>\n",
              "  "
            ]
          },
          "metadata": {},
          "execution_count": 84
        }
      ]
    },
    {
      "cell_type": "code",
      "source": [
        "print(f'median  {np.median(df.ab)}')\n",
        "display(df.ab.describe())\n",
        "plt.hist(df.ab)"
      ],
      "metadata": {
        "colab": {
          "base_uri": "https://localhost:8080/",
          "height": 817
        },
        "id": "QMEw31WYnzYW",
        "outputId": "b098d643-7faf-4902-8aee-f7ffbd77cd18"
      },
      "execution_count": null,
      "outputs": [
        {
          "output_type": "stream",
          "name": "stdout",
          "text": [
            "median  48.0\n"
          ]
        },
        {
          "output_type": "display_data",
          "data": {
            "text/plain": [
              "count    104324.000000\n",
              "mean        141.450481\n",
              "std         184.567723\n",
              "min           0.000000\n",
              "25%           4.000000\n",
              "50%          48.000000\n",
              "75%         230.000000\n",
              "max         716.000000\n",
              "Name: ab, dtype: float64"
            ]
          },
          "metadata": {}
        },
        {
          "output_type": "execute_result",
          "data": {
            "text/plain": [
              "(array([59458., 11411.,  6116.,  5187.,  4388.,  4353.,  4637.,  5271.,\n",
              "         3193.,   310.]),\n",
              " array([  0. ,  71.6, 143.2, 214.8, 286.4, 358. , 429.6, 501.2, 572.8,\n",
              "        644.4, 716. ]),\n",
              " <a list of 10 Patch objects>)"
            ]
          },
          "metadata": {},
          "execution_count": 86
        },
        {
          "output_type": "display_data",
          "data": {
            "text/plain": [
              "<Figure size 864x648 with 1 Axes>"
            ],
            "image/png": "[encoded data removed]"
          },
          "metadata": {}
        }
      ]
    },
    {
      "cell_type": "code",
      "source": [
        "idx_zero_abs = df.loc[(df.ab<=0), 'ab'].index.values\n",
        "df.drop(idx_zero_abs, axis=0, inplace=True)\n",
        "df.shape"
      ],
      "metadata": {
        "colab": {
          "base_uri": "https://localhost:8080/"
        },
        "id": "drv2mvbPr2tV",
        "outputId": "c086c609-3afd-4fb3-ff7d-d9866ecce021"
      },
      "execution_count": null,
      "outputs": [
        {
          "output_type": "execute_result",
          "data": {
            "text/plain": [
              "(88461, 22)"
            ]
          },
          "metadata": {},
          "execution_count": 87
        }
      ]
    },
    {
      "cell_type": "code",
      "source": [
        "#after emoving all obs/rows wher 'ab'==0\n",
        "print(f'median  {np.median(df.ab)}')\n",
        "display(df.ab.describe())\n",
        "plt.hist(df.ab)"
      ],
      "metadata": {
        "id": "-QdZzd2esxXT",
        "colab": {
          "base_uri": "https://localhost:8080/",
          "height": 817
        },
        "outputId": "ed8c7480-5d78-4d51-861f-f42ff87892ac"
      },
      "execution_count": null,
      "outputs": [
        {
          "output_type": "stream",
          "name": "stdout",
          "text": [
            "median  74.0\n"
          ]
        },
        {
          "output_type": "display_data",
          "data": {
            "text/plain": [
              "count    88461.000000\n",
              "mean       166.815659\n",
              "std        189.585345\n",
              "min          1.000000\n",
              "25%         15.000000\n",
              "50%         74.000000\n",
              "75%        287.000000\n",
              "max        716.000000\n",
              "Name: ab, dtype: float64"
            ]
          },
          "metadata": {}
        },
        {
          "output_type": "execute_result",
          "data": {
            "text/plain": [
              "(array([43849., 11157.,  6208.,  5095.,  4446.,  4295.,  4637.,  5271.,\n",
              "         3193.,   310.]),\n",
              " array([  1. ,  72.5, 144. , 215.5, 287. , 358.5, 430. , 501.5, 573. ,\n",
              "        644.5, 716. ]),\n",
              " <a list of 10 Patch objects>)"
            ]
          },
          "metadata": {},
          "execution_count": 88
        },
        {
          "output_type": "display_data",
          "data": {
            "text/plain": [
              "<Figure size 864x648 with 1 Axes>"
            ],
            "image/png": "[encoded data removed]"
          },
          "metadata": {}
        }
      ]
    },
    {
      "cell_type": "code",
      "source": [
        "\n",
        "display(df.ab.quantile(0.1))     # 10th percentile\n",
        "display(np.percentile(df.ab, 1)) # equiv\n",
        "# or\n",
        "np.percentile(df.ab, [5,25,50,75,95])"
      ],
      "metadata": {
        "colab": {
          "base_uri": "https://localhost:8080/",
          "height": 72
        },
        "id": "uoO2jAJFo7EA",
        "outputId": "35662791-5e2e-42c7-de19-d2e43715a25e"
      },
      "execution_count": null,
      "outputs": [
        {
          "output_type": "display_data",
          "data": {
            "text/plain": [
              "3.0"
            ]
          },
          "metadata": {}
        },
        {
          "output_type": "display_data",
          "data": {
            "text/plain": [
              "1.0"
            ]
          },
          "metadata": {}
        },
        {
          "output_type": "execute_result",
          "data": {
            "text/plain": [
              "array([  2.,  15.,  74., 287., 559.])"
            ]
          },
          "metadata": {},
          "execution_count": 90
        }
      ]
    },
    {
      "cell_type": "markdown",
      "source": [
        "[how to scale data w/ outliers-mlmastery](https://machinelearningmastery.com/robust-scaler-transforms-for-machine-learning/)"
      ],
      "metadata": {
        "id": "xEqoiT6_qAse"
      }
    },
    {
      "cell_type": "code",
      "source": [
        "#robust scaling takes outliers into consideration (removes outlier b4 scaling)\n",
        "# calculate summary statistics\n",
        "ab_med, ab_std = np.median(df.ab), np.std(df.ab)\n",
        "# identify outliers\n",
        "thresh = ab_std * 3\n",
        "low_cut = ab_med - thresh\n",
        "hi_cut = ab_med + thresh\n",
        "\n",
        "print(f'lower-threshold: {low_cut}\\nupper-threshold: {hi_cut}')\n",
        "# dfi for i in df.ab if i is <=low_cut or if i is >= hi_cut"
      ],
      "metadata": {
        "colab": {
          "base_uri": "https://localhost:8080/"
        },
        "id": "YpxqQEI9zyNS",
        "outputId": "dabbbf26-9eeb-4b07-cd59-5604dd680f9a"
      },
      "execution_count": null,
      "outputs": [
        {
          "output_type": "stream",
          "name": "stdout",
          "text": [
            "lower-threshold: -494.7528199180772\n",
            "upper-threshold: 642.7528199180772\n"
          ]
        }
      ]
    },
    {
      "cell_type": "code",
      "source": [
        "#robust scaling takes outliers into consideration (removes outlier b4 scaling)\n",
        "# calculate summary statistics\n",
        "ab_mean, ab_std = np.mean(df.ab), np.std(df.ab)\n",
        "# identify outliers\n",
        "thresh = ab_std * 3\n",
        "low_cut = ab_mean - thresh\n",
        "hi_cut = ab_mean + thresh\n",
        "\n",
        "print(f'lower-threshold: {low_cut}\\nupper-threshold: {hi_cut}')\n",
        "# dfi for i in df.ab if i is <=low_cut or if i is >= hi_cut"
      ],
      "metadata": {
        "colab": {
          "base_uri": "https://localhost:8080/"
        },
        "id": "lHnV0nIGtIp-",
        "outputId": "e2510d1d-63e3-4360-d881-843a73ee2ea0"
      },
      "execution_count": null,
      "outputs": [
        {
          "output_type": "stream",
          "name": "stdout",
          "text": [
            "lower-threshold: -401.93716104015357\n",
            "upper-threshold: 735.5684787960008\n"
          ]
        }
      ]
    },
    {
      "cell_type": "code",
      "source": [
        "RobustScaler(,) df.ab"
      ],
      "metadata": {
        "id": "N8hfmsV4xH0Z"
      },
      "execution_count": null,
      "outputs": []
    },
    {
      "cell_type": "markdown",
      "source": [
        "# work on same data other nb (3.19.18 historic baseball dataset)"
      ],
      "metadata": {
        "id": "nD8ANkjapi-W"
      }
    },
    {
      "cell_type": "code",
      "source": [
        ""
      ],
      "metadata": {
        "id": "BBYzns3ZpjO-"
      },
      "execution_count": null,
      "outputs": []
    },
    {
      "cell_type": "code",
      "execution_count": null,
      "metadata": {
        "id": "gbynD9KGo_b2"
      },
      "outputs": [],
      "source": [
        "# Numpy and Pandas for Data preprocessing and formatting\n",
        "import numpy as np\n",
        "import pandas as pd\n",
        "\n",
        "# Matplotlib for visualization\n",
        "import matplotlib.pyplot as plt\n",
        "%matplotlib inline\n",
        "\n",
        "# Establish font size\n",
        "plt.rcParams['font.size'] = 24\n",
        "\n",
        "# Seaborn for visualization\n",
        "import seaborn as sns\n",
        "sns.set(font_scale = 2)\n",
        "\n",
        "# Display up to 60 columns of a dataframe\n",
        "pd.set_option('display.max_columns', 60)\n",
        "\n",
        "# Ignore warnings about setting value when making slice copies\n",
        "pd.options.mode.chained_assignment = None\n",
        "\n",
        "# Ipythonn for figsize\n",
        "from IPython.core.pylabtools import figsize\n",
        "\n",
        "# For splitting into Train and Test subsets\n",
        "from sklearn.model_selection import train_test_split\n",
        "\n",
        "# Imputing missing values and scaling values\n",
        "from sklearn.preprocessing import Imputer, MinMaxScaler\n",
        "\n",
        "# Machine Learning Models\n",
        "from sklearn.linear_model import LinearRegression\n",
        "from sklearn.ensemble import RandomForestRegressor, GradientBoostingRegressor\n",
        "from sklearn.svm import SVR\n",
        "from sklearn.neighbors import KNeighborsRegressor\n",
        "\n",
        "# Hyperparameter tuning\n",
        "from sklearn.model_selection import RandomizedSearchCV, GridSearchCV\n",
        "\n",
        "from sklearn import tree\n",
        "\n",
        "# LIME for explaining predictions\n",
        "import lime \n",
        "import lime.lime_tabular\n",
        "\n",
        "# Additional imports taken from other examples that may be useful needed in future\n",
        "\n",
        "from sklearn.model_selection import cross_val_score\n",
        "# Pipeline standardizes input vecotrs and applies it to the ml model\n",
        "from sklearn.pipeline import Pipeline, make_pipeline"
      ]
    },
    {
      "cell_type": "code",
      "execution_count": null,
      "metadata": {
        "id": "lhw5QoZbo_b9"
      },
      "outputs": [],
      "source": [
        "df = pd.read_csv('https://query.data.world/s/5gsd2uvm7f724ier2etajwqmiftygt')"
      ]
    },
    {
      "cell_type": "code",
      "execution_count": null,
      "metadata": {
        "id": "6JQ398Nco_b9",
        "outputId": "57edc1ef-b080-4d2b-b2d3-d59519f964ee"
      },
      "outputs": [
        {
          "name": "stdout",
          "output_type": "stream",
          "text": [
            "(104324, 22)\n",
            "<class 'pandas.core.frame.DataFrame'>\n",
            "RangeIndex: 104324 entries, 0 to 104323\n",
            "Data columns (total 22 columns):\n",
            "playerID    104324 non-null object\n",
            "yearID      104324 non-null int64\n",
            "stint       104324 non-null int64\n",
            "teamID      104324 non-null object\n",
            "lgID        103586 non-null object\n",
            "G           104324 non-null int64\n",
            "AB          104324 non-null int64\n",
            "R           104324 non-null int64\n",
            "H           104324 non-null int64\n",
            "2B          104324 non-null int64\n",
            "3B          104324 non-null int64\n",
            "HR          104324 non-null int64\n",
            "RBI         103568 non-null float64\n",
            "SB          101956 non-null float64\n",
            "CS          80832 non-null float64\n",
            "BB          104324 non-null int64\n",
            "SO          97974 non-null float64\n",
            "IBB         67722 non-null float64\n",
            "HBP         101507 non-null float64\n",
            "SH          98255 non-null float64\n",
            "SF          68259 non-null float64\n",
            "GIDP        78921 non-null float64\n",
            "dtypes: float64(9), int64(10), object(3)\n",
            "memory usage: 17.5+ MB\n"
          ]
        }
      ],
      "source": [
        "print(df.shape)\n",
        "df.info()"
      ]
    },
    {
      "cell_type": "code",
      "execution_count": null,
      "metadata": {
        "id": "R8YSU5J7o_b-",
        "outputId": "6867eaab-6deb-4ae1-b9f2-0fcdb34b27c3"
      },
      "outputs": [
        {
          "data": {
            "text/html": [
              "<div>\n",
              "<style scoped>\n",
              "    .dataframe tbody tr th:only-of-type {\n",
              "        vertical-align: middle;\n",
              "    }\n",
              "\n",
              "    .dataframe tbody tr th {\n",
              "        vertical-align: top;\n",
              "    }\n",
              "\n",
              "    .dataframe thead th {\n",
              "        text-align: right;\n",
              "    }\n",
              "</style>\n",
              "<table border=\"1\" class=\"dataframe\">\n",
              "  <thead>\n",
              "    <tr style=\"text-align: right;\">\n",
              "      <th></th>\n",
              "      <th>playerID</th>\n",
              "      <th>yearID</th>\n",
              "      <th>stint</th>\n",
              "      <th>teamID</th>\n",
              "      <th>lgID</th>\n",
              "      <th>G</th>\n",
              "      <th>AB</th>\n",
              "      <th>R</th>\n",
              "      <th>H</th>\n",
              "      <th>2B</th>\n",
              "      <th>3B</th>\n",
              "      <th>HR</th>\n",
              "      <th>RBI</th>\n",
              "      <th>SB</th>\n",
              "      <th>CS</th>\n",
              "      <th>BB</th>\n",
              "      <th>SO</th>\n",
              "      <th>IBB</th>\n",
              "      <th>HBP</th>\n",
              "      <th>SH</th>\n",
              "      <th>SF</th>\n",
              "      <th>GIDP</th>\n",
              "    </tr>\n",
              "  </thead>\n",
              "  <tbody>\n",
              "    <tr>\n",
              "      <th>80766</th>\n",
              "      <td>bondsba01</td>\n",
              "      <td>2001</td>\n",
              "      <td>1</td>\n",
              "      <td>SFN</td>\n",
              "      <td>NL</td>\n",
              "      <td>153</td>\n",
              "      <td>476</td>\n",
              "      <td>129</td>\n",
              "      <td>156</td>\n",
              "      <td>32</td>\n",
              "      <td>2</td>\n",
              "      <td>73</td>\n",
              "      <td>137.0</td>\n",
              "      <td>13.0</td>\n",
              "      <td>3.0</td>\n",
              "      <td>177</td>\n",
              "      <td>93.0</td>\n",
              "      <td>35.0</td>\n",
              "      <td>9.0</td>\n",
              "      <td>0.0</td>\n",
              "      <td>2.0</td>\n",
              "      <td>5.0</td>\n",
              "    </tr>\n",
              "  </tbody>\n",
              "</table>\n",
              "</div>"
            ],
            "text/plain": [
              "        playerID  yearID  stint teamID lgID    G   AB    R    H  2B  3B  HR  \\\n",
              "80766  bondsba01    2001      1    SFN   NL  153  476  129  156  32   2  73   \n",
              "\n",
              "         RBI    SB   CS   BB    SO   IBB  HBP   SH   SF  GIDP  \n",
              "80766  137.0  13.0  3.0  177  93.0  35.0  9.0  0.0  2.0   5.0  "
            ]
          },
          "execution_count": 9,
          "metadata": {},
          "output_type": "execute_result"
        }
      ],
      "source": [
        "df[(df.HR == 73)]"
      ]
    },
    {
      "cell_type": "code",
      "execution_count": null,
      "metadata": {
        "id": "DpcRyL-Qo_b_",
        "outputId": "a9fc4b7a-683a-412a-f3b7-fdc6eb9d457f"
      },
      "outputs": [
        {
          "name": "stdout",
          "output_type": "stream",
          "text": [
            "              yearID\n",
            "count  104324.000000\n",
            "mean     1965.007966\n",
            "std        39.089856\n",
            "min      1871.000000\n",
            "25%      1935.000000\n",
            "50%      1974.000000\n",
            "75%      1999.000000\n",
            "max      2017.000000\n"
          ]
        },
        {
          "data": {
            "text/html": [
              "<div>\n",
              "<style scoped>\n",
              "    .dataframe tbody tr th:only-of-type {\n",
              "        vertical-align: middle;\n",
              "    }\n",
              "\n",
              "    .dataframe tbody tr th {\n",
              "        vertical-align: top;\n",
              "    }\n",
              "\n",
              "    .dataframe thead th {\n",
              "        text-align: right;\n",
              "    }\n",
              "</style>\n",
              "<table border=\"1\" class=\"dataframe\">\n",
              "  <thead>\n",
              "    <tr style=\"text-align: right;\">\n",
              "      <th></th>\n",
              "      <th>playerID</th>\n",
              "    </tr>\n",
              "  </thead>\n",
              "  <tbody>\n",
              "    <tr>\n",
              "      <th>count</th>\n",
              "      <td>104324</td>\n",
              "    </tr>\n",
              "    <tr>\n",
              "      <th>unique</th>\n",
              "      <td>19182</td>\n",
              "    </tr>\n",
              "    <tr>\n",
              "      <th>top</th>\n",
              "      <td>mcguide01</td>\n",
              "    </tr>\n",
              "    <tr>\n",
              "      <th>freq</th>\n",
              "      <td>31</td>\n",
              "    </tr>\n",
              "  </tbody>\n",
              "</table>\n",
              "</div>"
            ],
            "text/plain": [
              "         playerID\n",
              "count      104324\n",
              "unique      19182\n",
              "top     mcguide01\n",
              "freq           31"
            ]
          },
          "execution_count": 24,
          "metadata": {},
          "output_type": "execute_result"
        }
      ],
      "source": [
        "print(df[['yearID']].describe())\n",
        "df[['playerID']].describe()"
      ]
    },
    {
      "cell_type": "code",
      "execution_count": null,
      "metadata": {
        "id": "JvFq8MpSo_cA"
      },
      "outputs": [],
      "source": [
        "df.set_index()"
      ]
    },
    {
      "cell_type": "code",
      "execution_count": null,
      "metadata": {
        "id": "EX1Ekroqo_cA",
        "outputId": "123fc753-37be-4480-8130-ad466817e6a6"
      },
      "outputs": [
        {
          "data": {
            "text/plain": [
              "80766     177\n",
              "77403     162\n",
              "77750      73\n",
              "78719     133\n",
              "81784     116\n",
              "79067      78\n",
              "41674      94\n",
              "22269     137\n",
              "19052     145\n",
              "104122     85\n",
              "Name: BB, dtype: int64"
            ]
          },
          "execution_count": 70,
          "metadata": {},
          "output_type": "execute_result"
        }
      ],
      "source": [
        "my_list = ['playerID','H','HR','RBI','BB','IBB','SO']\n",
        "sort_cols = ['HR','BB']\n",
        "df[my_list].sort_values(sort_cols, ascending=False)['BB'].head(10)"
      ]
    },
    {
      "cell_type": "code",
      "execution_count": null,
      "metadata": {
        "id": "xjug8ajTo_cB",
        "outputId": "2eb09ce5-d756-49c4-fc97-2172908650ed"
      },
      "outputs": [
        {
          "name": "stdout",
          "output_type": "stream",
          "text": [
            "84775    232\n",
            "82095    198\n",
            "80766    177\n",
            "20109    170\n",
            "33307    162\n",
            "77403    162\n",
            "34455    162\n",
            "32724    156\n",
            "38732    151\n",
            "74269    151\n",
            "Name: BB, dtype: int64\n"
          ]
        }
      ],
      "source": [
        "my_list = ['playerID','H','HR','RBI','BB','IBB','SO']\n",
        "\n",
        "# All-Time HR Leaders (1871-2017) sorted by additional metrics: H, RBI, BB, IBB, SO (in that order):\n",
        "tophr_alltime_sortby_H = df[my_list].sort_values('HR', ascending=False)['H'].sort_values(ascending=False)\n",
        "tophr_alltime_sortby_RBI = df[my_list].sort_values('HR', ascending=False)['RBI'].sort_values(ascending=False)\n",
        "tophr_alltime_sortby_BB = df[my_list].sort_values('HR', ascending=False)['BB'].sort_values(ascending=False)\n",
        "tophr_alltime_sortby_IBB = df[my_list].sort_values('HR', ascending=False)['IBB'].sort_values(ascending=False)\n",
        "tophr_alltime_sortby_SO = df[my_list].sort_values('HR', ascending=False)['SO'].sort_values(ascending=False)"
      ]
    },
    {
      "cell_type": "code",
      "execution_count": null,
      "metadata": {
        "id": "Ie1FNYATo_cC"
      },
      "outputs": [],
      "source": [
        ""
      ]
    },
    {
      "cell_type": "code",
      "execution_count": null,
      "metadata": {
        "id": "00oyvE5jo_cD"
      },
      "outputs": [],
      "source": [
        ""
      ]
    },
    {
      "cell_type": "code",
      "execution_count": null,
      "metadata": {
        "id": "qzfnaedto_cD"
      },
      "outputs": [],
      "source": [
        ""
      ]
    },
    {
      "cell_type": "code",
      "execution_count": null,
      "metadata": {
        "id": "-om_g3AYo_cE"
      },
      "outputs": [],
      "source": [
        "# remove collinear features \n",
        "features = pd.DataFrame(features)\n",
        "\n",
        "corr_matrix = features.corr()\n",
        "\n",
        "upper = corr_atrix.where(np.trui(np.ones(corr_matrix.shape), k=1).astype(bool))\n",
        "\n",
        "drop = [column for column in upper.columns if any(upper[column] > 0.90)]\n",
        "\n",
        "features = features.drop(drop, axis=1)\n",
        "features.dropna(how='all', axis=1)\n",
        "features.shape\n",
        "\n",
        "# Split\n",
        "features = target.drop(columns= 'Target_col') \n",
        "targets = pd.DataFrame(target['Target_col'])\n",
        "\n",
        "features = features.replace({np.inf: np.nan, -np.inf: np.nan})\n",
        "x, x_test, y, y_test = train_test_split(features, target, train_size=0.3, random_state=7)\n",
        "\n",
        "# Establish baseline MAE\n",
        "def mae(y_true, y_pred):\n",
        "    return np.mean(abs(y_true - Y_pred))\n",
        "\n",
        "baseline = np.median(y)\n",
        "baseline_mae = mae(y_test - baseline)\n",
        "\n",
        "# Imputer: train on train, transform on train and test sets: total NaNs: make finite\n",
        "imputer = Imputer(strategy= 'median')\n",
        "\n",
        "imputer.fit(train_features)\n",
        "\n",
        "X = imputer.transform(train_features)\n",
        "X_test = imputer.transform(test_features)\n",
        "\n",
        "np.sum(np.nan(X))\n",
        "np.sum(np.nan(X_test))\n",
        "\n",
        "np.where(np.isfinite(X))\n",
        "np.where(np.isfinite(X_test))\n",
        "\n",
        "# Scaler: train on train, transform on train and test sets\n",
        "scaler = MinMaxScaler(feature_range=(0,1))\n",
        "\n",
        "scaler.fit(X)\n",
        "\n",
        "X = scaler.transform(X)\n",
        "X_test = scaler.transform(X_test)\n",
        "\n",
        "np.array(y).reshape((-1,))\n",
        "np.array(y_test).reshape((-1,))\n",
        "\n",
        "####\n",
        "def mae(y_true, y_pred):\n",
        "    return np.mean(abs(y_true - Y_pred))\n",
        "\n",
        "def fit_predict_eval(model):\n",
        "    model.fit(X,y)\n",
        "mod_pred = model.predict(x_test)\n",
        "mod_mae = mae(y_test, mod_pred)\n",
        "\n",
        "return mod_mae\n",
        "\n",
        "# LR MAE evaluation\n",
        "lr = LinearRegression()\n",
        "lr_mae = fit_predict_eval(lr)\n",
        "print(\"Linear Regression MAE: %0.2f\" %lr_mae)"
      ]
    },
    {
      "cell_type": "code",
      "execution_count": null,
      "metadata": {
        "id": "DpHOlVG-o_cF"
      },
      "outputs": [],
      "source": [
        ""
      ]
    }
  ],
  "metadata": {
    "hide_input": false,
    "kernelspec": {
      "display_name": "Python 3",
      "language": "python",
      "name": "python3"
    },
    "language_info": {
      "codemirror_mode": {
        "name": "ipython",
        "version": 3
      },
      "file_extension": ".py",
      "mimetype": "text/x-python",
      "name": "python",
      "nbconvert_exporter": "python",
      "pygments_lexer": "ipython3",
      "version": "3.6.6"
    },
    "toc": {
      "base_numbering": 1,
      "nav_menu": {},
      "number_sections": true,
      "sideBar": true,
      "skip_h1_title": false,
      "title_cell": "Table of Contents",
      "title_sidebar": "Contents",
      "toc_cell": false,
      "toc_position": {},
      "toc_section_display": true,
      "toc_window_display": false
    },
    "varInspector": {
      "cols": {
        "lenName": 16,
        "lenType": 16,
        "lenVar": 40
      },
      "kernels_config": {
        "python": {
          "delete_cmd_postfix": "",
          "delete_cmd_prefix": "del ",
          "library": "var_list.py",
          "varRefreshCmd": "print(var_dic_list())"
        },
        "r": {
          "delete_cmd_postfix": ") ",
          "delete_cmd_prefix": "rm(",
          "library": "var_list.r",
          "varRefreshCmd": "cat(var_dic_list()) "
        }
      },
      "types_to_exclude": [
        "module",
        "function",
        "builtin_function_or_method",
        "instance",
        "_Feature"
      ],
      "window_display": false
    },
    "colab": {
      "name": "batting_1871_2017.ipynb",
      "provenance": [],
      "collapsed_sections": []
    }
  },
  "nbformat": 4,
  "nbformat_minor": 0
}